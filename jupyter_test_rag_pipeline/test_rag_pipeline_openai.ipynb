{
 "cells": [
  {
   "metadata": {},
   "cell_type": "markdown",
   "source": [
    "## Operating a RAG pipeline using OpenAI GPT-4 API\n",
    "\n",
    "In this notebook, we set up the following RAG architecture with the NY Times comment set using a local ChromaDB vector database to handle the vector embeddings of the comment set, and using GPT-4 as our Large Language Model (LLM). GPT-4 has about 1.7 trillion parameters and occupies over 45GB of disk space.  Running GPT-r requires extremely powerful hardware that would be impossible to host locally.  GPT-4 is not an open model and therefore can only be accessed via an API provided by OpenAI at a cost.  \n",
    "\n",
    "![Simple RAG Architecture](../rag_architecture.jpg) \n",
    "\n",
    "Note that to use this workflow you will need to have access to an OpenAI API endpoint via a token.  See the [OpenAI website](https://openai.com) for more information.  This workflow also assumes that you have already created the Chroma vector database (see the `chromadb_prep` folder for instructions)."
   ],
   "id": "b8b8357dc2f50f80"
  },
  {
   "cell_type": "code",
   "id": "initial_id",
   "metadata": {
    "collapsed": true,
    "ExecuteTime": {
     "end_time": "2024-07-02T13:31:07.042439Z",
     "start_time": "2024-07-02T13:31:07.030191Z"
    }
   },
   "source": [
    "# packages\n",
    "from dotenv import load_dotenv\n",
    "import pandas as pd\n",
    "import chromadb\n",
    "import openai\n",
    "import os\n",
    "\n",
    "# load env variables\n",
    "load_dotenv()\n",
    "openai_base_url = os.getenv('OPENAI_BASE_URL')\n",
    "openai_api_key = os.getenv(\"LLM_TOKEN\")\n",
    "\n",
    "# chromadb location\n",
    "CHROMA_DATA_PATH = \"../chroma_data/\"\n",
    "collection_db=\"article_comments\"\n",
    "\n",
    "# Initialize an OpenAI client\n",
    "client = openai.OpenAI(api_key=openai_api_key, base_url=openai_base_url)\n",
    "\n",
    "# initialize a chroma client\n",
    "chroma_client = chromadb.PersistentClient(path=CHROMA_DATA_PATH)\n",
    "\n",
    "# helper function for prompt construction\n",
    "def construct_prompt(docs: dict, question: str) -> str:\n",
    "    # convert the docs into a numbered list of comments\n",
    "    results_df = pd.DataFrame(docs['documents']).transpose()\n",
    "    results_df.columns = ['Comment']\n",
    "    results_df['ComNum'] = [str(i) for i in range(1, len(results_df) + 1)]\n",
    "    results_df['Numbered Comments'] = results_df['ComNum'] + '. ' + results_df['Comment']\n",
    "\n",
    "    # Collect the results in a context\n",
    "    context = \"\\n\".join([r for r in results_df['Numbered Comments']])\n",
    "\n",
    "    # construct prompt\n",
    "    prompt = f\"\"\"\n",
    "        Answer the following question: {question}.  \n",
    "        Refer only to the following numbered list of comments from NY Times readers when answering: {context}.\n",
    "        Check each numbered comment very carefully and ignore it if it does not contain language that is a close match to the original question.\n",
    "        Provide as much information as possible in the summary, subject to the conditions already given.\n",
    "        Begin your answer with 'Based on the responses from selected NY Times readers', and try to give a sense of majority and minority opinions on the topic, but only if there is an identifiable majority opinion.\n",
    "        If there is not enough information provided to give a summarized opinion, indicate that this is the case.\n",
    "        \"\"\"\n",
    "\n",
    "    return prompt"
   ],
   "outputs": [],
   "execution_count": 16
  },
  {
   "metadata": {
    "ExecuteTime": {
     "end_time": "2024-07-02T13:31:12.495604Z",
     "start_time": "2024-07-02T13:31:12.490530Z"
    }
   },
   "cell_type": "code",
   "source": [
    "# function to execute RAG pipeline using GPT-4\n",
    "def ask_question_openai(question:str, client = client, \n",
    "                        collection: chromadb.PersistentClient() = collection_db, \n",
    "                        n_docs:int = 30, filters: dict ={}) -> str:\n",
    "    \n",
    "    # Find close documents in chromadb\n",
    "    collection = chroma_client.get_collection(collection)\n",
    "    results = collection.query(\n",
    "       query_texts=[question],\n",
    "       n_results=n_docs,\n",
    "       where=filters\n",
    "    )\n",
    "    \n",
    "    prompt = construct_prompt(results, question)\n",
    "    \n",
    "    # send prompt to GPT-4\n",
    "    chat_completion = client.chat.completions.create(\n",
    "        messages=[{\n",
    "                \"role\": \"user\",\n",
    "                \"content\": prompt,\n",
    "        }],\n",
    "        model=\"gpt-4\",\n",
    "    )\n",
    "    \n",
    "    # display response\n",
    "    print(chat_completion.choices[0].message.content)"
   ],
   "id": "4fd676af907b3a8a",
   "outputs": [],
   "execution_count": 17
  },
  {
   "metadata": {
    "ExecuteTime": {
     "end_time": "2024-07-02T13:31:27.950211Z",
     "start_time": "2024-07-02T13:31:14.399641Z"
    }
   },
   "cell_type": "code",
   "source": [
    "# test function\n",
    "ask_question_openai(\"What do readers think about climate change?\")"
   ],
   "id": "142ca1fc72cbd57b",
   "outputs": [
    {
     "name": "stdout",
     "output_type": "stream",
     "text": [
      "Based on the responses from selected NY Times readers, there is a clear range of opinions on climate change. Some recognized majority appears to agree that climate change is occurring, though they debate the extent of humanity's influence and the reliability of predictive models (Comments 1, 2, 3, 17). A few readers express a sense of inevitability and lament current societal apathy (Comments 4, 5) while others believe focusing on climate change may cause unnecessary economic hardship and that other measures, including population control, should be considered (Comments 7,23). Some commenters criticize the steadfast views of climate change advocates as unscientific and pressure-loaded (Comments 8, 14, 24, 28). Several, however, urge acceptance of climate change as fact and an immediate, profound response (Comments 9, 16, 18,21,26,29,30). There are also those who remain skeptical and call for clear data delineating human contributions to climate change (Comments 27).\n"
     ]
    }
   ],
   "execution_count": 18
  },
  {
   "metadata": {},
   "cell_type": "code",
   "outputs": [],
   "execution_count": null,
   "source": "",
   "id": "a560f6eb9902f4f8"
  }
 ],
 "metadata": {
  "kernelspec": {
   "display_name": "Python 3",
   "language": "python",
   "name": "python3"
  },
  "language_info": {
   "codemirror_mode": {
    "name": "ipython",
    "version": 2
   },
   "file_extension": ".py",
   "mimetype": "text/x-python",
   "name": "python",
   "nbconvert_exporter": "python",
   "pygments_lexer": "ipython2",
   "version": "2.7.6"
  }
 },
 "nbformat": 4,
 "nbformat_minor": 5
}
