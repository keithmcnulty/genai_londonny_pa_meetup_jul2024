{
 "cells": [
  {
   "cell_type": "code",
   "id": "initial_id",
   "metadata": {
    "collapsed": true,
    "ExecuteTime": {
     "end_time": "2024-07-01T17:20:54.185115Z",
     "start_time": "2024-07-01T17:20:54.171582Z"
    }
   },
   "source": [
    "from dotenv import load_dotenv\n",
    "import chromadb\n",
    "import openai\n",
    "import os\n",
    "\n",
    "load_dotenv()\n",
    "openai_base_url = os.getenv('OPENAI_BASE_URL')\n",
    "openai_api_key = os.getenv(\"LLM_TOKEN\")\n",
    "CHROMA_DATA_PATH = \"../chroma_data/\"\n",
    "collection_db=\"article_comments\"\n",
    "\n",
    "#Initialize a client\n",
    "client = openai.OpenAI(api_key=openai_api_key, base_url=openai_base_url)\n",
    "\n",
    "chroma_client = chromadb.PersistentClient(path=CHROMA_DATA_PATH)\n"
   ],
   "outputs": [],
   "execution_count": 20
  },
  {
   "metadata": {
    "ExecuteTime": {
     "end_time": "2024-07-01T17:20:57.678795Z",
     "start_time": "2024-07-01T17:20:57.673847Z"
    }
   },
   "cell_type": "code",
   "source": [
    "def ask_question_openai(question:str, collection: chromadb.PersistentClient() = collection_db, n_docs:int = 30, filters: dict ={}) -> str:\n",
    "    \n",
    "    # Find close documents in chromadb\n",
    "    collection = chroma_client.get_collection(collection)\n",
    "    results = collection.query(\n",
    "       query_texts=[question],\n",
    "       n_results=n_docs,\n",
    "       where=filters\n",
    "    )\n",
    "\n",
    "    # Collect the results in a context\n",
    "    context = \"\\n\".join([r for r in results['documents'][0]])\n",
    "    \n",
    "    prompt = f\"\"\"\n",
    "    Answer the following question: {question}.  \n",
    "    Refer only to the following information when answering: {context}.\n",
    "    Provide at least six paragraphs in summary if it is possible given the information provided.\n",
    "    Begin your answer with 'Based on the responses from selected NY Times readers', and try to give a sense of majority and minority opinions on the topic, but only if there is an identifiable majority opinion.\n",
    "    If there is not enough information provided to give a summarized opinion, indicate that this is the case.\n",
    "    \"\"\"\n",
    "    \n",
    "    chat_completion = client.chat.completions.create(\n",
    "        messages=[{\n",
    "                \"role\": \"user\",\n",
    "                \"content\": prompt,\n",
    "        }],\n",
    "        model=\"gpt-4\",\n",
    "    )\n",
    "    \n",
    "    print(chat_completion.choices[0].message.content)"
   ],
   "id": "4fd676af907b3a8a",
   "outputs": [],
   "execution_count": 21
  },
  {
   "metadata": {
    "ExecuteTime": {
     "end_time": "2024-07-01T17:21:20.223865Z",
     "start_time": "2024-07-01T17:21:00.593602Z"
    }
   },
   "cell_type": "code",
   "source": "ask_question_openai(\"What do readers think about the music of Taylor Swift?\")",
   "id": "142ca1fc72cbd57b",
   "outputs": [
    {
     "name": "stdout",
     "output_type": "stream",
     "text": [
      "Based on the responses from selected NY Times readers, there is quite a considerable variation in the opinions about the music of Taylor Swift. Some readers appreciated Taylor's music and look forward to her new albums, expressing enthusiasm for her particular brand of songs, and recognizing her struggles in the public eye. Attention was also drawn to the popularity of her music across various demographics, inferring that her music appeals to a broad fan base. These fans praised her strength and resilience after her sexual assault incident, commending her for becoming a role model for other women.\n",
      "\n",
      "However, there was a significant portion of dissenting voices as well. These readers criticized her for falling into the formulaic mold of pop music, suggesting that her songs are crafted by teams rather than herself, hence lacking authenticity. One reader even dismissed her music as 'garbage,' arguing that it was merely a product of the controlled music industry where quality is compromised for commercial success. \n",
      "\n",
      "A third perspective discussed was revolving around her character in the context of her sexual assault case, rather than about her music. These readers admired her for standing up against her assaulter despite the public scrutiny and supported her for setting a strong example for other sexual assault victims. \n",
      "\n",
      "Lastly, there was a section of readers who had complex views concerning her. They showed mixed feelings about her music but expressed an underlying respect for her, recognizing her trials in the incessantly watched life of a celebrity. There was also contemplation around the artist's evolution and how her style could change while she continues to mature and face different experiences.\n",
      "\n",
      "It's worth noting that some readers expressed concerns about the music industry as a whole using Swift as an example, debating its impact on individual artists and their work. Finally, few responses were unrelated and did not comment on Swift or her music.\n",
      "\n",
      "In conclusion, while there is no clear majority opinion about Taylor Swift's music, the range of opinions reflect the divisive nature of her music and public persona.\n"
     ]
    }
   ],
   "execution_count": 22
  },
  {
   "metadata": {},
   "cell_type": "code",
   "outputs": [],
   "execution_count": null,
   "source": "",
   "id": "a560f6eb9902f4f8"
  }
 ],
 "metadata": {
  "kernelspec": {
   "display_name": "Python 3",
   "language": "python",
   "name": "python3"
  },
  "language_info": {
   "codemirror_mode": {
    "name": "ipython",
    "version": 2
   },
   "file_extension": ".py",
   "mimetype": "text/x-python",
   "name": "python",
   "nbconvert_exporter": "python",
   "pygments_lexer": "ipython2",
   "version": "2.7.6"
  }
 },
 "nbformat": 4,
 "nbformat_minor": 5
}
