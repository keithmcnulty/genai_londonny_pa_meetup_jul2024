{
 "cells": [
  {
   "metadata": {},
   "cell_type": "markdown",
   "source": [
    "## Operating a RAG pipeline using locally hosted small language models\n",
    "\n",
    "A small language model (SLM) in this case is defined as a language model that is less than 10B parameters.  Such models usually take up about 5GB of disk space and can be executed locally on any reasonable spec machine.\n",
    "\n",
    "In this notebook, we set up the following RAG architecture with the NY Times comment set using a local ChromaDB vector database to handle the vector embeddings of the comment set, and using a few options for SLMs involved using ollama. \n",
    "\n",
    "![Simple RAG Architecture](../rag_architecture.jpg) \n",
    "\n",
    "Note that to use ollama you need to install it on your machine.  See [the ollama website](https://ollama.com/) for details.  This workflow also assumes that you have already created the Chroma vector database (see the `chromadb_prep` folder for instructions)."
   ],
   "id": "ce36e490cf908ffe"
  },
  {
   "cell_type": "code",
   "id": "initial_id",
   "metadata": {
    "collapsed": true,
    "ExecuteTime": {
     "end_time": "2024-07-02T13:59:34.152309Z",
     "start_time": "2024-07-02T13:59:34.141565Z"
    }
   },
   "source": [
    "# packages\n",
    "from langchain_community.llms import Ollama\n",
    "import chromadb\n",
    "import pandas as pd\n",
    "\n",
    "# location of pre-built local chromadb\n",
    "CHROMA_DATA_PATH = \"../chroma_data/\"\n",
    "collection_db=\"article_comments\"\n",
    "\n",
    "# chroma client \n",
    "chroma_client = chromadb.PersistentClient(path=CHROMA_DATA_PATH)\n",
    "\n",
    "# SLM options via Ollama\n",
    "mistral = Ollama(model=\"mistral\")\n",
    "llama3 = Ollama(model=\"llama3:8b\")\n",
    "gemma = Ollama(model=\"gemma\")\n",
    "\n",
    "# helper function for prompt construction\n",
    "def construct_prompt(docs: dict, question: str) -> str:\n",
    "    # convert the docs into a numbered list of comments\n",
    "    results_df = pd.DataFrame(docs['documents']).transpose()\n",
    "    results_df.columns = ['Comment']\n",
    "    results_df['ComNum'] = [str(i) for i in range(1, len(results_df) + 1)]\n",
    "    results_df['Numbered Comments'] = results_df['ComNum'] + '. ' + results_df['Comment']\n",
    "\n",
    "    # Collect the results in a context\n",
    "    context = \"\\n\".join([r for r in results_df['Numbered Comments']])\n",
    "\n",
    "    # construct prompt\n",
    "    prompt = f\"\"\"\n",
    "        Answer the following question: {question}.  \n",
    "        Refer only to the following numbered list of comments from NY Times readers when answering: {context}.\n",
    "        Check each numbered comment very carefully and ignore it if it does not contain language that is a close match to the original question.\n",
    "        Provide as much information as possible in the summary, subject to the conditions already given.\n",
    "        Begin your answer with 'Based on the responses from selected NY Times readers', and try to give a sense of majority and minority opinions on the topic, but only if there is an identifiable majority opinion.\n",
    "        If there is not enough information provided to give a summarized opinion, indicate that this is the case.\n",
    "        \"\"\"\n",
    "\n",
    "    return prompt\n",
    "\n",
    "# RAG pipeline function\n",
    "def ask_question_local(question:str, llm: Ollama() = llama3, \n",
    "                       collection: chromadb.PersistentClient() = collection_db, n_docs:int = 50, \n",
    "                       filters: dict ={}) -> str:\n",
    "    \n",
    "    # Find close documents in chromadb\n",
    "    collection = chroma_client.get_collection(collection)\n",
    "    results = collection.query(\n",
    "       query_texts=[question],\n",
    "       n_results=n_docs,\n",
    "       where=filters\n",
    "    )\n",
    "\n",
    "    prompt = construct_prompt(results, question)\n",
    "    \n",
    "    # generate response\n",
    "    print(llm.invoke(prompt))"
   ],
   "outputs": [],
   "execution_count": 9
  },
  {
   "metadata": {
    "ExecuteTime": {
     "end_time": "2024-07-02T13:59:47.001904Z",
     "start_time": "2024-07-02T13:59:36.816038Z"
    }
   },
   "cell_type": "code",
   "source": [
    "# test function\n",
    "ask_question_local(\"What do readers think about global warming?\", llm = llama3)"
   ],
   "id": "20d4e963c2426d6d",
   "outputs": [
    {
     "name": "stdout",
     "output_type": "stream",
     "text": [
      "Based on the responses from selected NY Times readers, it appears that there is a overwhelming consensus among the respondents that global warming is real and primarily caused by human activities. Only a few comments express skepticism or doubt about the existence of global warming.\n",
      "\n",
      "The majority of commenters (approximately 40-50) firmly believe that human-caused CO2 emissions are warming the planet at an alarming rate, with many expressing frustration and anger towards those who deny this fact. Some commenters even mention the devastating consequences of climate change, such as rising sea levels, increased natural disasters, and loss of biodiversity.\n",
      "\n",
      "A smaller minority (around 5-10%) question the severity or cause of global warming. Some argue that there is no consensus among scientists on the issue, while others propose alternative explanations for climate change, such as natural cycles or solar activity. However, these comments are largely outnumbered by those that strongly affirm the existence and human-caused nature of global warming.\n",
      "\n",
      "It's worth noting that some commenters (around 5-10%) seem to be more concerned about the impact of climate change on oceans and marine ecosystems, which they perceive as being disproportionately affected by the warming trend. A few others express hope for economic development and job creation through sustainable energy sources like solar and wind power.\n",
      "\n",
      "Overall, while there may be some minor variations in opinion, the majority of respondents are united in their belief that global warming is real, primarily caused by human activities, and a pressing concern requiring immediate attention and action.\n"
     ]
    }
   ],
   "execution_count": 10
  },
  {
   "metadata": {},
   "cell_type": "code",
   "outputs": [],
   "execution_count": null,
   "source": "",
   "id": "d1252e79ef6b2da0"
  }
 ],
 "metadata": {
  "kernelspec": {
   "display_name": "Python 3",
   "language": "python",
   "name": "python3"
  },
  "language_info": {
   "codemirror_mode": {
    "name": "ipython",
    "version": 2
   },
   "file_extension": ".py",
   "mimetype": "text/x-python",
   "name": "python",
   "nbconvert_exporter": "python",
   "pygments_lexer": "ipython2",
   "version": "2.7.6"
  }
 },
 "nbformat": 4,
 "nbformat_minor": 5
}
