{
 "cells": [
  {
   "cell_type": "code",
   "id": "initial_id",
   "metadata": {
    "collapsed": true,
    "ExecuteTime": {
     "end_time": "2024-07-01T20:40:53.064125Z",
     "start_time": "2024-07-01T20:40:53.056513Z"
    }
   },
   "source": [
    "from langchain_community.llms import Ollama\n",
    "import chromadb\n",
    "\n",
    "CHROMA_DATA_PATH = \"../chroma_data/\"\n",
    "collection_db=\"article_comments\"\n",
    "\n",
    "chroma_client = chromadb.PersistentClient(path=CHROMA_DATA_PATH)\n",
    "\n",
    "mistral = Ollama(model=\"mistral\")\n",
    "llama3 = Ollama(model=\"llama3:8b\")\n",
    "gemma = Ollama(model=\"gemma\")\n",
    "\n",
    "def ask_question_local(question:str, llm: Ollama() = llama3, \n",
    "                       collection: chromadb.PersistentClient() = collection_db, n_docs:int = 50, \n",
    "                       filters: dict ={}) -> str:\n",
    "    \n",
    "    # Find close documents in chromadb\n",
    "    collection = chroma_client.get_collection(collection)\n",
    "    results = collection.query(\n",
    "       query_texts=[question],\n",
    "       n_results=n_docs,\n",
    "       where=filters\n",
    "    )\n",
    "\n",
    "    # Collect the results in a context\n",
    "    context = \"\\n\".join([r for r in results['documents'][0]])\n",
    "    \n",
    "    prompt = f\"\"\"\n",
    "    Answer the following question: {question}.  \n",
    "    Refer only to the following information when answering: {context}.\n",
    "    Provide at least six paragraphs in summary if it is possible given the information provided.\n",
    "    Begin your answer with 'Based on the responses from selected NY Times readers', and try to give a sense of majority and minority opinions on the topic, but only if there is an identifiable majority opinion.\n",
    "    If there is not enough information provided to give a summarized opinion, indicate that this is the case.\n",
    "    \"\"\"\n",
    "    \n",
    "    print(llm.invoke(prompt))"
   ],
   "outputs": [],
   "execution_count": 27
  },
  {
   "metadata": {
    "ExecuteTime": {
     "end_time": "2024-07-01T20:41:23.227927Z",
     "start_time": "2024-07-01T20:41:11.588801Z"
    }
   },
   "cell_type": "code",
   "source": "ask_question_local(\"What do readers think about global warming?\", llm = llama3)",
   "id": "20d4e963c2426d6d",
   "outputs": [
    {
     "name": "stdout",
     "output_type": "stream",
     "text": [
      "Based on the responses from selected NY Times readers, it appears that the majority of readers are strongly supportive of the notion that global warming is real and man-made. Many readers express frustration with those who deny or downplay the issue, citing scientific consensus and evidence to support their claims.\n",
      "\n",
      "Some readers, however, take a more nuanced approach, acknowledging the existence of global warming but questioning the degree to which human activity is responsible for the phenomenon. These readers often point to natural climate cycles and the complexity of climate systems as reasons why they are skeptical of the idea that human activity is solely or primarily responsible for global warming.\n",
      "\n",
      "A smaller number of readers seem to be outright dismissive of the concept of global warming altogether, viewing it as a hoax or an overblown issue. These readers often express support for fossil fuels and criticize efforts to regulate carbon emissions, seeing them as an economic threat.\n",
      "\n",
      "Some readers take issue with what they see as a lack of nuance in discussions of climate change, arguing that both sides are being unfairly demonized and that more balance is needed in the way the topic is presented. Others express frustration with the perceived lack of action on the part of policymakers to address global warming.\n",
      "\n",
      "It's worth noting that there appears to be some agreement among readers that the current administration's stance on climate change has been problematic, with many viewing it as a major obstacle to progress on addressing the issue.\n",
      "\n",
      "In terms of specific solutions or approaches to addressing global warming, there is less consensus. Some readers advocate for more aggressive carbon regulation and investment in renewable energy, while others suggest that individual actions such as reducing consumption and increasing energy efficiency are key.\n",
      "\n",
      "Overall, while there may not be a single dominant narrative among NY Times readers on this topic, it appears that the majority of respondents accept the reality of global warming and see it as a pressing issue requiring attention.\n"
     ]
    }
   ],
   "execution_count": 28
  },
  {
   "metadata": {},
   "cell_type": "code",
   "outputs": [],
   "execution_count": null,
   "source": "",
   "id": "d1252e79ef6b2da0"
  }
 ],
 "metadata": {
  "kernelspec": {
   "display_name": "Python 3",
   "language": "python",
   "name": "python3"
  },
  "language_info": {
   "codemirror_mode": {
    "name": "ipython",
    "version": 2
   },
   "file_extension": ".py",
   "mimetype": "text/x-python",
   "name": "python",
   "nbconvert_exporter": "python",
   "pygments_lexer": "ipython2",
   "version": "2.7.6"
  }
 },
 "nbformat": 4,
 "nbformat_minor": 5
}
